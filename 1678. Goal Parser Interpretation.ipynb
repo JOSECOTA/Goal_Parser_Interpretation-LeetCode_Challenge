{
 "cells": [
  {
   "cell_type": "code",
   "execution_count": 3,
   "id": "5d779b72",
   "metadata": {},
   "outputs": [],
   "source": [
    "def goal_parser(command):\n",
    "    command1 = command.replace(\"()\",\"o\")\n",
    "    command2 = command1.replace(\"(al)\",\"al\")\n",
    "\n",
    "    return command2"
   ]
  },
  {
   "cell_type": "code",
   "execution_count": 2,
   "id": "431135fa",
   "metadata": {},
   "outputs": [
    {
     "data": {
      "text/plain": [
       "'Gooooal'"
      ]
     },
     "execution_count": 2,
     "metadata": {},
     "output_type": "execute_result"
    }
   ],
   "source": [
    "goal_parser(\"G()()()()(al)\")"
   ]
  },
  {
   "cell_type": "code",
   "execution_count": null,
   "id": "a0ab2a22",
   "metadata": {},
   "outputs": [],
   "source": []
  }
 ],
 "metadata": {
  "kernelspec": {
   "display_name": "Python 3 (ipykernel)",
   "language": "python",
   "name": "python3"
  },
  "language_info": {
   "codemirror_mode": {
    "name": "ipython",
    "version": 3
   },
   "file_extension": ".py",
   "mimetype": "text/x-python",
   "name": "python",
   "nbconvert_exporter": "python",
   "pygments_lexer": "ipython3",
   "version": "3.9.7"
  }
 },
 "nbformat": 4,
 "nbformat_minor": 5
}
